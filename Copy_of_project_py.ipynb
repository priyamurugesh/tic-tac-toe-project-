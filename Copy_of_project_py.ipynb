{
  "nbformat": 4,
  "nbformat_minor": 0,
  "metadata": {
    "colab": {
      "name": "Copy of project.py",
      "provenance": [],
      "collapsed_sections": [],
      "authorship_tag": "ABX9TyPDe9rFEb9RaHUGDYPCORx/",
      "include_colab_link": true
    },
    "kernelspec": {
      "name": "python3",
      "display_name": "Python 3"
    },
    "language_info": {
      "name": "python"
    }
  },
  "cells": [
    {
      "cell_type": "markdown",
      "metadata": {
        "id": "view-in-github",
        "colab_type": "text"
      },
      "source": [
        "<a href=\"https://colab.research.google.com/github/priyamurugesh/tic-tac-toe-project-/blob/main/Copy_of_project_py.ipynb\" target=\"_parent\"><img src=\"https://colab.research.google.com/assets/colab-badge.svg\" alt=\"Open In Colab\"/></a>"
      ]
    },
    {
      "cell_type": "code",
      "metadata": {
        "id": "1YdDDLrvLVJ9"
      },
      "source": [
        "#tictactoe project using phython\n",
        "#tic tac toe \n",
        "\n",
        "def tictactoe():\n",
        "\n",
        "   print(\"game is starting\")\n",
        "   play_again= true\n",
        "   while play_again :\n",
        "      board =['' ,'' ,'' ,'' ,'' ,'' ,'' ,'' ,'' ]\n",
        "      player=1\n",
        "      if palyer>2:\n",
        "        player=1\n",
        "        print(\"player\",player,\"select your mark\")\n",
        "        marker=input()\n",
        "        player_1,player_2=set_marker(marker)\n",
        "    \n",
        "        while true:\n",
        "           print (\"player\",player,\":enter your position\")\n",
        "           pos=int(input())\n",
        "           if check_pos(pos,board):\n",
        "             continue\n",
        "           if player==1:\n",
        "             set_board(board,player_1,pos)\n",
        "           else :\n",
        "             set_board(board,player_2,pos)\n",
        "           display(board)\n",
        "           if player==1:\n",
        "             if check_win(board,player_1):\n",
        "               print(\"player\",player,\"haas won\")\n",
        "               break\n",
        "             else :\n",
        "               if check_win(board,player_2):\n",
        "                print(\"player\",player,\"has won\")\n",
        "                break\n",
        "             if check_space(board):\n",
        "               print(\"draw !!!\")\n",
        "               break\n",
        "             player += 1\n",
        "\n",
        "             if replay():\n",
        "                 play_again=true\n",
        "    \n",
        "        def set_mrker(marker):\n",
        "             if marker==\"X\":\n",
        "              return(\"O\",\"X\")\n",
        "\n",
        "      def check_pos(pos,board):\n",
        "          if board [pos]==\" \":\n",
        "             return false\n",
        "          else:\n",
        "             return true\n",
        "    \n",
        "      def set_board(board,marker,pos):\n",
        "          board[pos]=marker\n",
        "      def display(board):\n",
        "       print(f'{board[7]} | {board[8]} | {board[9]}')\n",
        "       print(\"_________________\")\n",
        "       print(f'{board[4]} | {board[5]} | {board[6]}')\n",
        "       print(\"_________________\")\n",
        "       print(f'{board[1]} | {board[2]} | {board[3]}')\n",
        "       print(\"_________________\")\n",
        "      def check_win(board,marker):\n",
        "        return board[1]==marker and board[2]==marker and board[3]==marker or board[4]==marker and board[5]==marker and board[6]==marker or board[7]==marker and board[8]==marker and board[9]==marker\n",
        "      def check_space(board):\n",
        "        if \" \" in board:\n",
        "          return false\n",
        "        else:\n",
        "          return true\n",
        "      def reply():\n",
        "          print(\"Do you want to play again Y/N \")\n",
        "          ans=input()\n",
        "          if ans == \"Y\" or ans ==\"y\":\n",
        "              return True \n",
        "          else:\n",
        "              return False\n",
        "\n",
        "\n",
        "\n"
      ],
      "execution_count": null,
      "outputs": []
    }
  ]
}